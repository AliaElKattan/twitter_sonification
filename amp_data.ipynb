{
 "cells": [
  {
   "cell_type": "code",
   "execution_count": 2,
   "metadata": {},
   "outputs": [],
   "source": [
    "import pandas as pd\n",
    "import numpy as np\n",
    "from wordcloud import WordCloud, STOPWORDS\n",
    "import matplotlib.pyplot as plt"
   ]
  },
  {
   "cell_type": "markdown",
   "metadata": {},
   "source": [
    "### Uploading & Cleaning Tweets"
   ]
  },
  {
   "cell_type": "code",
   "execution_count": 5,
   "metadata": {},
   "outputs": [],
   "source": [
    "tweets = pd.read_csv('tweets.csv', usecols = ['timestamp', 'text'],encoding='latin1')  #nrows 'in_reply_to_status_id'"
   ]
  },
  {
   "cell_type": "code",
   "execution_count": 6,
   "metadata": {},
   "outputs": [
    {
     "name": "stderr",
     "output_type": "stream",
     "text": [
      "C:\\Users\\aliae\\Anaconda3\\lib\\site-packages\\ipykernel_launcher.py:9: SettingWithCopyWarning: \n",
      "A value is trying to be set on a copy of a slice from a DataFrame\n",
      "\n",
      "See the caveats in the documentation: http://pandas.pydata.org/pandas-docs/stable/user_guide/indexing.html#returning-a-view-versus-a-copy\n",
      "  if __name__ == '__main__':\n",
      "C:\\Users\\aliae\\Anaconda3\\lib\\site-packages\\ipykernel_launcher.py:10: SettingWithCopyWarning: \n",
      "A value is trying to be set on a copy of a slice from a DataFrame\n",
      "\n",
      "See the caveats in the documentation: http://pandas.pydata.org/pandas-docs/stable/user_guide/indexing.html#returning-a-view-versus-a-copy\n",
      "  # Remove the CWD from sys.path while we load stuff.\n"
     ]
    }
   ],
   "source": [
    "#Add cols for month and year\n",
    "\n",
    "index = 0;\n",
    "\n",
    "tweets['month'] = 0\n",
    "tweets['year'] = 0\n",
    "\n",
    "for i in tweets['timestamp']:\n",
    "    tweets['year'][index]=tweets['timestamp'][index][0:4]\n",
    "    tweets['month'][index]=tweets['timestamp'][index][5:7]\n",
    "    index+=1\n",
    "\n",
    "#Delete timestamp column\n",
    "del tweets['timestamp']"
   ]
  },
  {
   "cell_type": "code",
   "execution_count": 7,
   "metadata": {},
   "outputs": [],
   "source": [
    "#Convert to lowercase\n",
    "tweets['text'] = tweets['text'].str.lower()"
   ]
  },
  {
   "cell_type": "code",
   "execution_count": 8,
   "metadata": {},
   "outputs": [],
   "source": [
    "#Clean up - remove replies, retweets\n",
    "\n",
    "tweets = tweets[~tweets.text.str.contains(\"@\")]\n",
    "tweets = tweets[~tweets.text.str.contains(\"rt\")]\n",
    "#tweets = tweets[~tweets.text.str.contains(\"plx11zpn21\")]\n",
    "\n",
    "#Remove all non-letter or number chars\n",
    "tweets['text'] = tweets['text'].replace('[^a-zA-Z0-9]',' ', regex = True) #replace non letters or numbers\n",
    "\n",
    "#Split data by year (2011 - 2014) & sort months in descending order\n",
    "def tweets_by_year(year):\n",
    "    is_year = tweets['year'] == year\n",
    "    return tweets[is_year].sort_values(by=['month'])\n",
    "\n",
    "tweets_2011 = tweets_by_year(2011)\n",
    "tweets_2012 = tweets_by_year(2012)\n",
    "tweets_2013 = tweets_by_year(2013)\n",
    "tweets_2014 = tweets_by_year(2014)"
   ]
  },
  {
   "cell_type": "code",
   "execution_count": 11,
   "metadata": {},
   "outputs": [
    {
     "name": "stdout",
     "output_type": "stream",
     "text": [
      "\n"
     ]
    }
   ],
   "source": [
    "'''wordcloud = WordCloud(\n",
    "    width = 3000,\n",
    "    height = 2000,\n",
    "    background_color = 'white',\n",
    "    stopwords = STOPWORDS\n",
    ").generate(str(tweets_x)\n",
    ")\n",
    "fig = plt.figure(\n",
    "    figsize = (40, 30),\n",
    "    facecolor = 'k',\n",
    "    edgecolor = 'k')\n",
    "plt.imshow(wordcloud, interpolation = 'bilinear')\n",
    "plt.axis('off')\n",
    "plt.tight_layout(pad=0)\n",
    "plt.show()'''"
   ]
  },
  {
   "cell_type": "markdown",
   "metadata": {},
   "source": [
    "### Convert data from daily to monthly"
   ]
  },
  {
   "cell_type": "code",
   "execution_count": 12,
   "metadata": {},
   "outputs": [],
   "source": [
    "def df_to_text(tweets):\n",
    "    return tweets.text.str.cat(sep=' ')\n",
    "\n",
    "\n",
    "from collections import Counter\n",
    "\n",
    "#split_it = tweets_2011_t.split() \n",
    "#Counter = Counter(split_it) \n",
    "#print(Counter.most_common(100))"
   ]
  },
  {
   "cell_type": "code",
   "execution_count": 14,
   "metadata": {},
   "outputs": [],
   "source": [
    "#Reset index\n",
    "\n",
    "tweets_2011 = tweets_2011.reset_index()\n",
    "del tweets_2011['index']\n",
    "\n",
    "tweets_2012 = tweets_2012.reset_index()\n",
    "del tweets_2012['index']\n",
    "\n",
    "tweets_2013 = tweets_2013.reset_index()\n",
    "del tweets_2013['index']\n",
    "\n",
    "tweets_2014 = tweets_2014.reset_index()\n",
    "del tweets_2014['index']"
   ]
  },
  {
   "cell_type": "code",
   "execution_count": 16,
   "metadata": {},
   "outputs": [],
   "source": [
    "from collections import Counter\n",
    "\n",
    "\n",
    "#Create new dataset that has all the text for tweets within 1 month in the same row, \n",
    "#while maintaining other metadata\n",
    "\n",
    "#Find most common words for each month\n",
    "\n",
    "def tweets_by_month(tweets_year):\n",
    "    stop_words = STOPWORDS\n",
    "    num_rows = len(tweets_year.index)\n",
    "    by_month = pd.DataFrame(index=np.arange(12), columns=['year', 'month', 'count','text','common_words'])\n",
    "    \n",
    "    by_month['month'][0]=tweets_year['month'][0]\n",
    "    by_month['year'][0] = tweets_year['year'][0] \n",
    "    by_month['text'][0] = tweets_year['text'][0]\n",
    "    by_month['count'][0] = 1\n",
    "    \n",
    "    ind_m = 0 \n",
    "    ind_y = 1\n",
    "    \n",
    "    for i in range(num_rows-1):\n",
    "        if tweets_year['month'][ind_y] > by_month['month'][ind_m]: #initialize new month\n",
    "            \n",
    "            #Find common words that aren't stopwords\n",
    "            split_it = by_month['text'][ind_m].split() \n",
    "            count = Counter(split_it) \n",
    "            for i in split_it:\n",
    "                words = [w for w in split_it if w not in STOPWORDS and len(w) > 3]\n",
    "                count.update(words)\n",
    "            by_month['common_words'][ind_m]=count\n",
    "            \n",
    "            ind_m+=1\n",
    "            by_month['month'][ind_m] = tweets_year['month'][ind_y]\n",
    "            by_month['year'][ind_m] = tweets_year['year'][ind_y] \n",
    "            by_month['text'][ind_m] = tweets_year['text'][ind_y]\n",
    "            by_month['count'][ind_m]=1\n",
    "        else:\n",
    "            \n",
    "            by_month['count'][ind_m]+=1\n",
    "            by_month['text'][ind_m]= by_month['text'][ind_m] + '; ' + tweets_year['text'][ind_y]\n",
    "        ind_y = ind_y +1\n",
    "    \n",
    "    return by_month\n",
    "    \n",
    "by_month_2011 = tweets_by_month(tweets_2011)\n",
    "by_month_2012 = tweets_by_month(tweets_2012)\n",
    "by_month_2013 = tweets_by_month(tweets_2013)\n",
    "by_month_2014 = tweets_by_month(tweets_2014)\n",
    "\n",
    "#Concat into 1 dataset\n",
    "tweets_by_month = pd.concat([by_month_2011, by_month_2012, by_month_2013, by_month_2014])\n",
    "\n",
    "#Save to CSV\n",
    "tweets_by_month.to_csv(r'tweets_by_month.csv')\n",
    "\n",
    "#Made some changes directly in excel, saved the new file as tweets_by_volume"
   ]
  },
  {
   "cell_type": "markdown",
   "metadata": {},
   "source": [
    "In Excel, I used the common words output and monthly tweet text to interpret each month's emotions on a scale of 1-8. I also added a volume column, mapping to 1-4 based on the amount of tweets written per month (calculated as 'count' in the function above)"
   ]
  },
  {
   "cell_type": "code",
   "execution_count": 25,
   "metadata": {},
   "outputs": [
    {
     "data": {
      "text/html": [
       "<div>\n",
       "<style scoped>\n",
       "    .dataframe tbody tr th:only-of-type {\n",
       "        vertical-align: middle;\n",
       "    }\n",
       "\n",
       "    .dataframe tbody tr th {\n",
       "        vertical-align: top;\n",
       "    }\n",
       "\n",
       "    .dataframe thead th {\n",
       "        text-align: right;\n",
       "    }\n",
       "</style>\n",
       "<table border=\"1\" class=\"dataframe\">\n",
       "  <thead>\n",
       "    <tr style=\"text-align: right;\">\n",
       "      <th></th>\n",
       "      <th>text</th>\n",
       "      <th>month</th>\n",
       "      <th>year</th>\n",
       "    </tr>\n",
       "  </thead>\n",
       "  <tbody>\n",
       "    <tr>\n",
       "      <td>0</td>\n",
       "      <td>masr  lt 3</td>\n",
       "      <td>2</td>\n",
       "      <td>2011</td>\n",
       "    </tr>\n",
       "    <tr>\n",
       "      <td>1</td>\n",
       "      <td>school spirit     lt 3</td>\n",
       "      <td>3</td>\n",
       "      <td>2011</td>\n",
       "    </tr>\n",
       "    <tr>\n",
       "      <td>2</td>\n",
       "      <td>grade seven  school spirit</td>\n",
       "      <td>3</td>\n",
       "      <td>2011</td>\n",
       "    </tr>\n",
       "    <tr>\n",
       "      <td>3</td>\n",
       "      <td>walk for nile was such a succesful event</td>\n",
       "      <td>5</td>\n",
       "      <td>2011</td>\n",
       "    </tr>\n",
       "    <tr>\n",
       "      <td>4</td>\n",
       "      <td>...</td>\n",
       "      <td>5</td>\n",
       "      <td>2011</td>\n",
       "    </tr>\n",
       "  </tbody>\n",
       "</table>\n",
       "</div>"
      ],
      "text/plain": [
       "                                                text  month  year\n",
       "0                                         masr  lt 3      2  2011\n",
       "1                             school spirit     lt 3      3  2011\n",
       "2                      grade seven  school spirit         3  2011\n",
       "3          walk for nile was such a succesful event       5  2011\n",
       "4                                                ...      5  2011"
      ]
     },
     "execution_count": 25,
     "metadata": {},
     "output_type": "execute_result"
    }
   ],
   "source": [
    "tweets_2011.head()"
   ]
  },
  {
   "cell_type": "markdown",
   "metadata": {},
   "source": [
    "### Mapping Tweets to Pitches"
   ]
  },
  {
   "cell_type": "code",
   "execution_count": 34,
   "metadata": {},
   "outputs": [],
   "source": [
    "#tweets_by_volume is the modified version of the previous tweets_by_month\n",
    "\n",
    "volume = pd.read_csv('tweets_by_volume.csv', encoding='latin1')  #nrows 'in_reply_to_status_id'\n"
   ]
  },
  {
   "cell_type": "code",
   "execution_count": 35,
   "metadata": {},
   "outputs": [
    {
     "data": {
      "text/html": [
       "<div>\n",
       "<style scoped>\n",
       "    .dataframe tbody tr th:only-of-type {\n",
       "        vertical-align: middle;\n",
       "    }\n",
       "\n",
       "    .dataframe tbody tr th {\n",
       "        vertical-align: top;\n",
       "    }\n",
       "\n",
       "    .dataframe thead th {\n",
       "        text-align: right;\n",
       "    }\n",
       "</style>\n",
       "<table border=\"1\" class=\"dataframe\">\n",
       "  <thead>\n",
       "    <tr style=\"text-align: right;\">\n",
       "      <th></th>\n",
       "      <th>year</th>\n",
       "      <th>month</th>\n",
       "      <th>count</th>\n",
       "      <th>volume</th>\n",
       "      <th>pitch</th>\n",
       "    </tr>\n",
       "  </thead>\n",
       "  <tbody>\n",
       "    <tr>\n",
       "      <td>0</td>\n",
       "      <td>2011</td>\n",
       "      <td>2</td>\n",
       "      <td>1</td>\n",
       "      <td>1</td>\n",
       "      <td>6</td>\n",
       "    </tr>\n",
       "    <tr>\n",
       "      <td>1</td>\n",
       "      <td>2011</td>\n",
       "      <td>3</td>\n",
       "      <td>2</td>\n",
       "      <td>1</td>\n",
       "      <td>5</td>\n",
       "    </tr>\n",
       "    <tr>\n",
       "      <td>2</td>\n",
       "      <td>2011</td>\n",
       "      <td>4</td>\n",
       "      <td>0</td>\n",
       "      <td>0</td>\n",
       "      <td>0</td>\n",
       "    </tr>\n",
       "    <tr>\n",
       "      <td>3</td>\n",
       "      <td>2011</td>\n",
       "      <td>5</td>\n",
       "      <td>8</td>\n",
       "      <td>1</td>\n",
       "      <td>5</td>\n",
       "    </tr>\n",
       "    <tr>\n",
       "      <td>4</td>\n",
       "      <td>2011</td>\n",
       "      <td>6</td>\n",
       "      <td>53</td>\n",
       "      <td>3</td>\n",
       "      <td>6</td>\n",
       "    </tr>\n",
       "  </tbody>\n",
       "</table>\n",
       "</div>"
      ],
      "text/plain": [
       "   year  month  count  volume  pitch\n",
       "0  2011      2      1       1      6\n",
       "1  2011      3      2       1      5\n",
       "2  2011      4      0       0      0\n",
       "3  2011      5      8       1      5\n",
       "4  2011      6     53       3      6"
      ]
     },
     "execution_count": 35,
     "metadata": {},
     "output_type": "execute_result"
    }
   ],
   "source": [
    "volume.head()"
   ]
  },
  {
   "cell_type": "code",
   "execution_count": 36,
   "metadata": {},
   "outputs": [],
   "source": [
    "#Function to convert a csv file column to a single strong\n",
    "\n",
    "def csv_to_text(volume3,label): \n",
    "    pitches = '1,'\n",
    "    \n",
    "    ind = 0\n",
    "    \n",
    "    for i in volume3[label]:\n",
    "        pitches = str(pitches) + str(' ') + str(volume3[label][ind])\n",
    "        ind+=1\n",
    "    pitches = pitches + ';'\n",
    "    return pitches"
   ]
  },
  {
   "cell_type": "code",
   "execution_count": 37,
   "metadata": {},
   "outputs": [
    {
     "data": {
      "text/html": [
       "<div>\n",
       "<style scoped>\n",
       "    .dataframe tbody tr th:only-of-type {\n",
       "        vertical-align: middle;\n",
       "    }\n",
       "\n",
       "    .dataframe tbody tr th {\n",
       "        vertical-align: top;\n",
       "    }\n",
       "\n",
       "    .dataframe thead th {\n",
       "        text-align: right;\n",
       "    }\n",
       "</style>\n",
       "<table border=\"1\" class=\"dataframe\">\n",
       "  <thead>\n",
       "    <tr style=\"text-align: right;\">\n",
       "      <th></th>\n",
       "      <th>index</th>\n",
       "      <th>pitch</th>\n",
       "      <th>channels</th>\n",
       "      <th>year</th>\n",
       "      <th>month</th>\n",
       "      <th>months_text</th>\n",
       "    </tr>\n",
       "  </thead>\n",
       "  <tbody>\n",
       "    <tr>\n",
       "      <td>0</td>\n",
       "      <td>1</td>\n",
       "      <td>60</td>\n",
       "      <td>1</td>\n",
       "      <td>2011</td>\n",
       "      <td>2</td>\n",
       "      <td>february</td>\n",
       "    </tr>\n",
       "    <tr>\n",
       "      <td>1</td>\n",
       "      <td>1</td>\n",
       "      <td>62</td>\n",
       "      <td>1</td>\n",
       "      <td>2011</td>\n",
       "      <td>2</td>\n",
       "      <td>february</td>\n",
       "    </tr>\n",
       "    <tr>\n",
       "      <td>2</td>\n",
       "      <td>1</td>\n",
       "      <td>62</td>\n",
       "      <td>1</td>\n",
       "      <td>2011</td>\n",
       "      <td>2</td>\n",
       "      <td>february</td>\n",
       "    </tr>\n",
       "    <tr>\n",
       "      <td>3</td>\n",
       "      <td>1</td>\n",
       "      <td>69</td>\n",
       "      <td>1</td>\n",
       "      <td>2011</td>\n",
       "      <td>2</td>\n",
       "      <td>february</td>\n",
       "    </tr>\n",
       "    <tr>\n",
       "      <td>4</td>\n",
       "      <td>1</td>\n",
       "      <td>62</td>\n",
       "      <td>1</td>\n",
       "      <td>2011</td>\n",
       "      <td>2</td>\n",
       "      <td>february</td>\n",
       "    </tr>\n",
       "    <tr>\n",
       "      <td>5</td>\n",
       "      <td>2</td>\n",
       "      <td>59</td>\n",
       "      <td>1</td>\n",
       "      <td>2011</td>\n",
       "      <td>3</td>\n",
       "      <td>march</td>\n",
       "    </tr>\n",
       "    <tr>\n",
       "      <td>6</td>\n",
       "      <td>2</td>\n",
       "      <td>59</td>\n",
       "      <td>1</td>\n",
       "      <td>2011</td>\n",
       "      <td>3</td>\n",
       "      <td>march</td>\n",
       "    </tr>\n",
       "    <tr>\n",
       "      <td>7</td>\n",
       "      <td>2</td>\n",
       "      <td>59</td>\n",
       "      <td>1</td>\n",
       "      <td>2011</td>\n",
       "      <td>3</td>\n",
       "      <td>march</td>\n",
       "    </tr>\n",
       "    <tr>\n",
       "      <td>8</td>\n",
       "      <td>2</td>\n",
       "      <td>52</td>\n",
       "      <td>1</td>\n",
       "      <td>2011</td>\n",
       "      <td>3</td>\n",
       "      <td>march</td>\n",
       "    </tr>\n",
       "    <tr>\n",
       "      <td>9</td>\n",
       "      <td>2</td>\n",
       "      <td>59</td>\n",
       "      <td>1</td>\n",
       "      <td>2011</td>\n",
       "      <td>3</td>\n",
       "      <td>march</td>\n",
       "    </tr>\n",
       "  </tbody>\n",
       "</table>\n",
       "</div>"
      ],
      "text/plain": [
       "  index pitch channels  year month months_text\n",
       "0     1    60        1  2011     2    february\n",
       "1     1    62        1  2011     2    february\n",
       "2     1    62        1  2011     2    february\n",
       "3     1    69        1  2011     2    february\n",
       "4     1    62        1  2011     2    february\n",
       "5     2    59        1  2011     3       march\n",
       "6     2    59        1  2011     3       march\n",
       "7     2    59        1  2011     3       march\n",
       "8     2    52        1  2011     3       march\n",
       "9     2    59        1  2011     3       march"
      ]
     },
     "execution_count": 37,
     "metadata": {},
     "output_type": "execute_result"
    }
   ],
   "source": [
    "index = 0\n",
    "\n",
    "#List of pitches I want to map to, 1 - 8\n",
    "\n",
    "ch1 = [30,35]\n",
    "ch2 = [37,40]\n",
    "ch3 = [42,45]\n",
    "ch4 = [47,48,50]\n",
    "ch5 = [52,57,59]\n",
    "ch6 = [60,62,69]\n",
    "ch7 = [69,70,72]\n",
    "ch8 = [75,78]\n",
    "\n",
    "#to add a month text column\n",
    "months = ['january', 'february', 'march', 'april', 'may', 'june', 'july', 'august', 'september', 'october', 'november', 'december']\n",
    "\n",
    "#each array entry maps to 1 - 8 and includes the different possible pitch outputs for said emotion category\n",
    "choices = [ch1,ch2,ch3,ch4,ch5,ch6,ch7,ch8]\n",
    "\n",
    "#new dataframe to store the pitches\n",
    "newdata = pd.DataFrame(index=np.arange(236), columns=['index', 'pitch', 'channels', 'year', 'month', 'months_text'])\n",
    "\n",
    "import random\n",
    "vol_index = 0\n",
    "index = 0\n",
    "\n",
    "for i in volume['count']:\n",
    "    #5 pitch outputs for each month to populate more data\n",
    "    for i in range(5):\n",
    "        newdata['index'][index] = vol_index+1\n",
    "        #correlate 1-8 ranking to a random sequence of 5 pitches from the specific array index\n",
    "        newdata['pitch'][index] = random.choice(choices[(volume['pitch'][vol_index])-1])\n",
    "        newdata['channels'][index] = volume['volume'][vol_index]\n",
    "        newdata['year'][index] = volume['year'][vol_index]\n",
    "        newdata['month'][index] = volume['month'][vol_index]\n",
    "        #add month text column\n",
    "        newdata['months_text'][index] = months[(newdata['month'][index])-1]\n",
    "        index+=1\n",
    "    vol_index+=1\n",
    "\n",
    "    \n",
    "    \n",
    "newdata.head(10)"
   ]
  },
  {
   "cell_type": "markdown",
   "metadata": {},
   "source": [
    "### Export files for use in Max MSP patch"
   ]
  },
  {
   "cell_type": "code",
   "execution_count": 48,
   "metadata": {},
   "outputs": [],
   "source": [
    "new_pitches = open(\"max_input/new_pitches.txt\", \"w\")\n",
    "n = new_pitches.write(csv_to_text(newdata,'pitch'))\n",
    "new_pitches.close()"
   ]
  },
  {
   "cell_type": "code",
   "execution_count": 49,
   "metadata": {},
   "outputs": [],
   "source": [
    "new_year = open(\"max_input/new_year.txt\", \"w\")\n",
    "n = new_year.write(csv_to_text(newdata,'year'))\n",
    "new_year.close()\n",
    "\n",
    "new_month = open(\"max_input/new_month.txt\", \"w\")\n",
    "n = new_month.write(csv_to_text(newdata,'month'))\n",
    "new_month.close()\n",
    "\n",
    "new_month_text = open(\"max_input/new_month_text.txt\", \"w\")\n",
    "n = new_month_text.write(csv_to_text(newdata,'months_text'))\n",
    "new_month_text.close()\n",
    "\n",
    "new_channels = open(\"max_input/new_channels.txt\", \"w\")\n",
    "n = new_channels.write(csv_to_text(newdata,'channels'))\n",
    "new_channels.close()\n"
   ]
  },
  {
   "cell_type": "code",
   "execution_count": 40,
   "metadata": {},
   "outputs": [
    {
     "name": "stdout",
     "output_type": "stream",
     "text": [
      "1, 2 2 2 2 2 3 3 3 3 3 4 4 4 4 4 5 5 5 5 5 6 6 6 6 6 7 7 7 7 7 8 8 8 8 8 9 9 9 9 9 10 10 10 10 10 11 11 11 11 11 12 12 12 12 12 1 1 1 1 1 2 2 2 2 2 3 3 3 3 3 4 4 4 4 4 5 5 5 5 5 6 6 6 6 6 7 7 7 7 7 8 8 8 8 8 9 9 9 9 9 10 10 10 10 10 11 11 11 11 11 12 12 12 12 12 1 1 1 1 1 2 2 2 2 2 3 3 3 3 3 4 4 4 4 4 5 5 5 5 5 6 6 6 6 6 7 7 7 7 7 8 8 8 8 8 9 9 9 9 9 10 10 10 10 10 11 11 11 11 11 12 12 12 12 12 1 1 1 1 1 2 2 2 2 2 3 3 3 3 3 4 4 4 4 4 5 5 5 5 5 6 6 6 6 6 7 7 7 7 7 8 8 8 8 8 9 9 9 9 9 10 10 10 10 10 11 11 11 11 11 12 12 12 12 12 nan;\n"
     ]
    }
   ],
   "source": [
    "print(csv_to_text(newdata,'month'))"
   ]
  },
  {
   "cell_type": "code",
   "execution_count": 41,
   "metadata": {},
   "outputs": [],
   "source": [
    "#Save to CSV file\n",
    "newdata.to_csv(r'newdata.csv')"
   ]
  },
  {
   "cell_type": "code",
   "execution_count": 42,
   "metadata": {},
   "outputs": [
    {
     "name": "stdout",
     "output_type": "stream",
     "text": [
      "     Unnamed: 0  index  pitch  channels  year  month months_text  track\n",
      "0             0      1     60         1  2011      2    february      1\n",
      "1             1      1     60         1  2011      2    february      0\n",
      "2             2      1     62         1  2011      2    february      0\n",
      "3             3      1     69         1  2011      2    february      0\n",
      "4             4      1     60         1  2011      2    february      0\n",
      "..          ...    ...    ...       ...   ...    ...         ...    ...\n",
      "230         230     47     37         1  2014     12    december      0\n",
      "231         231     47     40         1  2014     12    december      0\n",
      "232         232     47     40         1  2014     12    december      0\n",
      "233         233     47     40         1  2014     12    december      0\n",
      "234         234     47     40         1  2014     12    december      0\n",
      "\n",
      "[235 rows x 8 columns]\n"
     ]
    }
   ],
   "source": [
    "#Made some changes in excel, added a track column that has either 1, 2, 3, or 4 depending on which additional track will be playing\n",
    "#1 is protests, 2 is coldplay, 3 is doctor who, 4 is wambach scoring a goal - they correlate to the most tweeted about topics\n",
    "newdata2 = pd.read_csv('newdata2.csv', encoding='latin1')  #nrows 'in_reply_to_status_id'\n",
    "print(newdata2)"
   ]
  },
  {
   "cell_type": "code",
   "execution_count": 47,
   "metadata": {},
   "outputs": [],
   "source": [
    "tracks = open(\"max_input/new_tracks.txt\", \"w\")\n",
    "n = tracks.write(csv_to_text(newdata2,'track'))\n",
    "tracks.close()"
   ]
  },
  {
   "cell_type": "markdown",
   "metadata": {},
   "source": [
    "## Feed txt files into Max Patch\n",
    "\n",
    "* Pitch --> determine pitch of current note\n",
    "* Channels --> number of audio channels playing at the same time\n",
    "* Tracks --> determine which additional track to play at current index\n",
    "* Month & Year --> Output as text for visual reference of where in my tweet history the sonification is\n"
   ]
  }
 ],
 "metadata": {
  "kernelspec": {
   "display_name": "Python 3",
   "language": "python",
   "name": "python3"
  },
  "language_info": {
   "codemirror_mode": {
    "name": "ipython",
    "version": 3
   },
   "file_extension": ".py",
   "mimetype": "text/x-python",
   "name": "python",
   "nbconvert_exporter": "python",
   "pygments_lexer": "ipython3",
   "version": "3.7.4"
  }
 },
 "nbformat": 4,
 "nbformat_minor": 2
}
